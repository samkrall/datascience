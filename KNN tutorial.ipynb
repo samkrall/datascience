{
 "cells": [
  {
   "cell_type": "markdown",
   "id": "2d4e6d20",
   "metadata": {},
   "source": [
    "# K Nearest Neighbors\n",
    "\n",
    "KNN is the simplest machine learning algorithm. Building your model only consists of training the algorithm. To make a prediction with KNN all the algorithm does is find the data points closest from the training data set to your data point in question.  \n",
    "\n",
    "## How Does KNN Work?\n",
    "\n",
    "KNN works by comparing your test data point to all data points in the model. What ever classification the closes data point has, that is the classification your algorithm assigns to you test data point.  \n",
    "\n",
    "There is one more dimension of complexity, that is how many of the nearest neighbors are compared. You can specify the amount of neighbors or the k value. If you are comparing the 5 nearest neighbors, the classification of the majority of them is what the algorithm will classify the test data as. \n",
    "\n",
    "## KNN Decision Boundaries\n",
    "\n",
    "For two dimensional datasets, its easy to visualize how k Nearest Neighbors works. We can color the plan according to the class that would be assigned  to a point in that region. This shows the decision boundary of the algorithm. \n",
    "\n",
    "## KNN Parameters\n",
    "\n",
    "There are two important parameters to the kNN algorithm, the number of neighbors and how distance is measured between points. Using a small number of neighbors (<=5) usually works well, but you should adjust this parameter. I have never used anything but Euclidean distance.  \n",
    "\n",
    "## Advantages and Disadvantages of KNN \n",
    "\n",
    "KNN main advantage is that its easy to understand. Its fast simple so its really easy to set up. Disadvantages are it doesn't work with high dimensionality, you need to preprocess your data and it can be slow depending on the dimensionality. \n",
    "\n",
    "Lets get into the code..."
   ]
  },
  {
   "cell_type": "code",
   "execution_count": 1,
   "id": "0b4bf87b",
   "metadata": {},
   "outputs": [],
   "source": [
    "#import packages\n",
    "import pandas as pd\n",
    "import numpy as np\n",
    "from matplotlib import pyplot as plt\n",
    "import seaborn as sns "
   ]
  },
  {
   "cell_type": "code",
   "execution_count": 6,
   "id": "c8dc7196",
   "metadata": {},
   "outputs": [
    {
     "name": "stdout",
     "output_type": "stream",
     "text": [
      "['anagrams', 'anscombe', 'attention', 'brain_networks', 'car_crashes', 'diamonds', 'dots', 'dowjones', 'exercise', 'flights', 'fmri', 'geyser', 'glue', 'healthexp', 'iris', 'mpg', 'penguins', 'planets', 'seaice', 'taxis', 'tips', 'titanic']\n"
     ]
    }
   ],
   "source": [
    "print(sns.get_dataset_names())"
   ]
  },
  {
   "cell_type": "markdown",
   "id": "5e6ecbe6",
   "metadata": {},
   "source": [
    "## Dataset\n",
    "\n",
    "I'm going to be working in the penguins dataset. I'm going to drop all NA values and use KNN to predict sex in penguins based off of the other factors. This dataset only has 6 dimensions, low dimensionality is helpful with KNN."
   ]
  },
  {
   "cell_type": "code",
   "execution_count": 12,
   "id": "c47105f3",
   "metadata": {},
   "outputs": [
    {
     "data": {
      "text/html": [
       "<div>\n",
       "<style scoped>\n",
       "    .dataframe tbody tr th:only-of-type {\n",
       "        vertical-align: middle;\n",
       "    }\n",
       "\n",
       "    .dataframe tbody tr th {\n",
       "        vertical-align: top;\n",
       "    }\n",
       "\n",
       "    .dataframe thead th {\n",
       "        text-align: right;\n",
       "    }\n",
       "</style>\n",
       "<table border=\"1\" class=\"dataframe\">\n",
       "  <thead>\n",
       "    <tr style=\"text-align: right;\">\n",
       "      <th></th>\n",
       "      <th>species</th>\n",
       "      <th>island</th>\n",
       "      <th>bill_length_mm</th>\n",
       "      <th>bill_depth_mm</th>\n",
       "      <th>flipper_length_mm</th>\n",
       "      <th>body_mass_g</th>\n",
       "      <th>sex</th>\n",
       "    </tr>\n",
       "  </thead>\n",
       "  <tbody>\n",
       "    <tr>\n",
       "      <th>0</th>\n",
       "      <td>Adelie</td>\n",
       "      <td>Torgersen</td>\n",
       "      <td>39.1</td>\n",
       "      <td>18.7</td>\n",
       "      <td>181.0</td>\n",
       "      <td>3750.0</td>\n",
       "      <td>Male</td>\n",
       "    </tr>\n",
       "    <tr>\n",
       "      <th>1</th>\n",
       "      <td>Adelie</td>\n",
       "      <td>Torgersen</td>\n",
       "      <td>39.5</td>\n",
       "      <td>17.4</td>\n",
       "      <td>186.0</td>\n",
       "      <td>3800.0</td>\n",
       "      <td>Female</td>\n",
       "    </tr>\n",
       "    <tr>\n",
       "      <th>2</th>\n",
       "      <td>Adelie</td>\n",
       "      <td>Torgersen</td>\n",
       "      <td>40.3</td>\n",
       "      <td>18.0</td>\n",
       "      <td>195.0</td>\n",
       "      <td>3250.0</td>\n",
       "      <td>Female</td>\n",
       "    </tr>\n",
       "    <tr>\n",
       "      <th>3</th>\n",
       "      <td>Adelie</td>\n",
       "      <td>Torgersen</td>\n",
       "      <td>NaN</td>\n",
       "      <td>NaN</td>\n",
       "      <td>NaN</td>\n",
       "      <td>NaN</td>\n",
       "      <td>NaN</td>\n",
       "    </tr>\n",
       "    <tr>\n",
       "      <th>4</th>\n",
       "      <td>Adelie</td>\n",
       "      <td>Torgersen</td>\n",
       "      <td>36.7</td>\n",
       "      <td>19.3</td>\n",
       "      <td>193.0</td>\n",
       "      <td>3450.0</td>\n",
       "      <td>Female</td>\n",
       "    </tr>\n",
       "  </tbody>\n",
       "</table>\n",
       "</div>"
      ],
      "text/plain": [
       "  species     island  bill_length_mm  bill_depth_mm  flipper_length_mm  \\\n",
       "0  Adelie  Torgersen            39.1           18.7              181.0   \n",
       "1  Adelie  Torgersen            39.5           17.4              186.0   \n",
       "2  Adelie  Torgersen            40.3           18.0              195.0   \n",
       "3  Adelie  Torgersen             NaN            NaN                NaN   \n",
       "4  Adelie  Torgersen            36.7           19.3              193.0   \n",
       "\n",
       "   body_mass_g     sex  \n",
       "0       3750.0    Male  \n",
       "1       3800.0  Female  \n",
       "2       3250.0  Female  \n",
       "3          NaN     NaN  \n",
       "4       3450.0  Female  "
      ]
     },
     "execution_count": 12,
     "metadata": {},
     "output_type": "execute_result"
    }
   ],
   "source": [
    "df = sns.load_dataset('penguins')\n",
    "df.head()"
   ]
  },
  {
   "cell_type": "code",
   "execution_count": 15,
   "id": "4b98454d",
   "metadata": {},
   "outputs": [
    {
     "name": "stdout",
     "output_type": "stream",
     "text": [
      "<class 'pandas.core.frame.DataFrame'>\n",
      "Int64Index: 333 entries, 0 to 343\n",
      "Data columns (total 7 columns):\n",
      " #   Column             Non-Null Count  Dtype  \n",
      "---  ------             --------------  -----  \n",
      " 0   species            333 non-null    object \n",
      " 1   island             333 non-null    object \n",
      " 2   bill_length_mm     333 non-null    float64\n",
      " 3   bill_depth_mm      333 non-null    float64\n",
      " 4   flipper_length_mm  333 non-null    float64\n",
      " 5   body_mass_g        333 non-null    float64\n",
      " 6   sex                333 non-null    object \n",
      "dtypes: float64(4), object(3)\n",
      "memory usage: 20.8+ KB\n"
     ]
    }
   ],
   "source": [
    "df.info()"
   ]
  },
  {
   "cell_type": "code",
   "execution_count": 14,
   "id": "b7fbf7d0",
   "metadata": {},
   "outputs": [],
   "source": [
    "df.dropna(axis=0, how='any', inplace=True)"
   ]
  },
  {
   "cell_type": "markdown",
   "id": "831447e4",
   "metadata": {},
   "source": [
    "## Data Munging\n",
    "\n",
    "Super easy, just dropped all 'NA' values. Since this writeup is about deconstructing KNN, that's fine. I still have 333 values to work with enough to do train test split or k-fold cross validation.\n",
    "\n",
    "I will have to normalize numerical data and recode categorical data. Will be fairly easy, then I can get into the ML models."
   ]
  },
  {
   "cell_type": "code",
   "execution_count": 17,
   "id": "d75b986d",
   "metadata": {},
   "outputs": [],
   "source": [
    "#lists of categoricals/numerics\n",
    "categorical = ['species','island','sex']\n",
    "numeric = ['bill_length_mm','bill_depth_mm','flipper_length_mm','body_mass_g']"
   ]
  },
  {
   "cell_type": "code",
   "execution_count": 33,
   "id": "d19c2b17",
   "metadata": {},
   "outputs": [
    {
     "name": "stdout",
     "output_type": "stream",
     "text": [
      "[0 1 2]\n",
      "[0 1 2]\n",
      "[1 0]\n"
     ]
    }
   ],
   "source": [
    "#categorical munging\n",
    "for column in categorical:\n",
    "    print(df[column].unique())"
   ]
  },
  {
   "cell_type": "markdown",
   "id": "178f159e",
   "metadata": {},
   "source": [
    "### Categorical Data Munging\n",
    "\n",
    "Easy, a maximum of 3 categorical values for three columns. I'm going to demonstrate three separate ways of converting categorical variables into numerics."
   ]
  },
  {
   "cell_type": "code",
   "execution_count": 32,
   "id": "323303c8",
   "metadata": {},
   "outputs": [],
   "source": [
    "#using pandas categorical method with .codes\n",
    "df['species']=pd.Categorical(df['species']).codes\n",
    "\n",
    "#using replace\n",
    "df['island'].replace(['Torgersen','Biscoe','Dream'],[0,1,2], inplace=True)\n",
    "\n",
    "#using get dummies\n",
    "df['sex'] = pd.get_dummies(df['sex'], drop_first=True)"
   ]
  },
  {
   "cell_type": "markdown",
   "id": "24f338a1",
   "metadata": {},
   "source": [
    "### Numerica Data Munging\n",
    "\n",
    "We need all of our numerical data to be on a similar scale. KNN is based off of closeness of points to one another so if the scale is different, it can really throw off the calculations.\n"
   ]
  },
  {
   "cell_type": "code",
   "execution_count": 36,
   "id": "b5a0cb4e",
   "metadata": {},
   "outputs": [],
   "source": [
    "X = df.drop('sex', axis=1)\n",
    "y=df['sex']\n",
    "\n",
    "from sklearn.preprocessing import MinMaxScaler\n",
    "scaler = MinMaxScaler(feature_range=(0, 1))\n",
    "data = scaler.fit_transform(X)\n",
    "X_scaled = pd.DataFrame(data)"
   ]
  },
  {
   "cell_type": "markdown",
   "id": "c3f599cb",
   "metadata": {},
   "source": [
    "### Scaled DataFrame and Algorithm Loading\n",
    "\n",
    "The datafram is looking good, all of the numerics are scaled between 0-1."
   ]
  },
  {
   "cell_type": "code",
   "execution_count": 37,
   "id": "46dfdd3c",
   "metadata": {},
   "outputs": [
    {
     "data": {
      "text/html": [
       "<div>\n",
       "<style scoped>\n",
       "    .dataframe tbody tr th:only-of-type {\n",
       "        vertical-align: middle;\n",
       "    }\n",
       "\n",
       "    .dataframe tbody tr th {\n",
       "        vertical-align: top;\n",
       "    }\n",
       "\n",
       "    .dataframe thead th {\n",
       "        text-align: right;\n",
       "    }\n",
       "</style>\n",
       "<table border=\"1\" class=\"dataframe\">\n",
       "  <thead>\n",
       "    <tr style=\"text-align: right;\">\n",
       "      <th></th>\n",
       "      <th>0</th>\n",
       "      <th>1</th>\n",
       "      <th>2</th>\n",
       "      <th>3</th>\n",
       "      <th>4</th>\n",
       "      <th>5</th>\n",
       "    </tr>\n",
       "  </thead>\n",
       "  <tbody>\n",
       "    <tr>\n",
       "      <th>0</th>\n",
       "      <td>0.0</td>\n",
       "      <td>0.0</td>\n",
       "      <td>0.254545</td>\n",
       "      <td>0.666667</td>\n",
       "      <td>0.152542</td>\n",
       "      <td>0.291667</td>\n",
       "    </tr>\n",
       "    <tr>\n",
       "      <th>1</th>\n",
       "      <td>0.0</td>\n",
       "      <td>0.0</td>\n",
       "      <td>0.269091</td>\n",
       "      <td>0.511905</td>\n",
       "      <td>0.237288</td>\n",
       "      <td>0.305556</td>\n",
       "    </tr>\n",
       "    <tr>\n",
       "      <th>2</th>\n",
       "      <td>0.0</td>\n",
       "      <td>0.0</td>\n",
       "      <td>0.298182</td>\n",
       "      <td>0.583333</td>\n",
       "      <td>0.389831</td>\n",
       "      <td>0.152778</td>\n",
       "    </tr>\n",
       "    <tr>\n",
       "      <th>3</th>\n",
       "      <td>0.0</td>\n",
       "      <td>0.0</td>\n",
       "      <td>0.167273</td>\n",
       "      <td>0.738095</td>\n",
       "      <td>0.355932</td>\n",
       "      <td>0.208333</td>\n",
       "    </tr>\n",
       "    <tr>\n",
       "      <th>4</th>\n",
       "      <td>0.0</td>\n",
       "      <td>0.0</td>\n",
       "      <td>0.261818</td>\n",
       "      <td>0.892857</td>\n",
       "      <td>0.305085</td>\n",
       "      <td>0.263889</td>\n",
       "    </tr>\n",
       "  </tbody>\n",
       "</table>\n",
       "</div>"
      ],
      "text/plain": [
       "     0    1         2         3         4         5\n",
       "0  0.0  0.0  0.254545  0.666667  0.152542  0.291667\n",
       "1  0.0  0.0  0.269091  0.511905  0.237288  0.305556\n",
       "2  0.0  0.0  0.298182  0.583333  0.389831  0.152778\n",
       "3  0.0  0.0  0.167273  0.738095  0.355932  0.208333\n",
       "4  0.0  0.0  0.261818  0.892857  0.305085  0.263889"
      ]
     },
     "execution_count": 37,
     "metadata": {},
     "output_type": "execute_result"
    }
   ],
   "source": [
    "X_scaled.head()"
   ]
  },
  {
   "cell_type": "markdown",
   "id": "9b4fe146",
   "metadata": {},
   "source": [
    "## KNN Algorithm Exploration/Analysis\n",
    "\n",
    "Now I need to load the actual algorithm from SKlearn. This algorithm is pretty simplistic:\n",
    "\n",
    "sklearn.neighbors.KNeighborsClassifier(n_neighbors=5, *, weights='uniform', algorithm='auto', leaf_size=30, p=2, metric='minkowski', metric_params=None, n_jobs=None)\n",
    "\n",
    "The most important parameter is n_neighbors which stands for number of neighbors, this is number of other points the point in question is being compared to. \n",
    "\n",
    "The documentation can be found here:  https://scikit-learn.org/stable/modules/generated/sklearn.neighbors.KNeighborsClassifier.html\n",
    "\n",
    "## KNN Algorithm Code Description\n",
    "\n",
    "I'm going to split the data into training and test sets and use the square root of the number of values as my starting number of neighbors. I will use accuracy score to score my algorithm"
   ]
  },
  {
   "cell_type": "code",
   "execution_count": 50,
   "id": "6f482644",
   "metadata": {},
   "outputs": [],
   "source": [
    "#train/test/split\n",
    "from sklearn.model_selection import train_test_split \n",
    "X_train, X_test, y_train, y_test = train_test_split(X_scaled,y,test_size=0.25,random_state=1) \n",
    "\n",
    "from sklearn.neighbors import KNeighborsClassifier\n",
    "method = KNeighborsClassifier(n_neighbors=19)\n",
    "\n",
    "method.fit(X_train, y_train)\n",
    "\n",
    "predictions = method.predict(X_test)\n"
   ]
  },
  {
   "cell_type": "code",
   "execution_count": 45,
   "id": "2a0bdbc4",
   "metadata": {},
   "outputs": [
    {
     "name": "stdout",
     "output_type": "stream",
     "text": [
      "Accuracy Score:  0.88\n"
     ]
    }
   ],
   "source": [
    "from sklearn.metrics import accuracy_score\n",
    "a_score = str(round(accuracy_score(y_test, predictions),3))\n",
    "print('Accuracy Score:  '+ a_score)"
   ]
  },
  {
   "cell_type": "markdown",
   "id": "fee572c9",
   "metadata": {},
   "source": [
    "## KNN Algorithm Results Analysis\n",
    "\n",
    "I got a decent accuracy score, 88% accurate. Next I want to grpah how precision changes based on different neighbors values for the  KNN algorithm. Under/overfitting are difficult to explain, but easier when you can visualize them!"
   ]
  },
  {
   "cell_type": "code",
   "execution_count": 49,
   "id": "b34ea2ca",
   "metadata": {},
   "outputs": [
    {
     "data": {
      "text/plain": [
       "<AxesSubplot:>"
      ]
     },
     "execution_count": 49,
     "metadata": {},
     "output_type": "execute_result"
    },
    {
     "data": {
      "image/png": "[encoded data removed]",
      "text/plain": [
       "<Figure size 432x288 with 1 Axes>"
      ]
     },
     "metadata": {
      "needs_background": "light"
     },
     "output_type": "display_data"
    }
   ],
   "source": [
    "#instantiating lists to track neighbor and accuracy scores\n",
    "neighbors = []\n",
    "accuracy = []\n",
    "\n",
    "#looping through numbers for neighbors\n",
    "for i in range(1,25):\n",
    "    method = KNeighborsClassifier(n_neighbors=i)\n",
    "    method.fit(X_train, y_train)\n",
    "    predictions = method.predict(X_test)\n",
    "    a_score = round(accuracy_score(y_test, predictions),3)\n",
    "    neighbors.append(i)\n",
    "    accuracy.append(a_score)\n",
    "\n",
    "#create seaborn lineplot of data\n",
    "sns.lineplot(x=neighbors, y=accuracy)"
   ]
  },
  {
   "cell_type": "markdown",
   "id": "5f514af8",
   "metadata": {},
   "source": [
    "## KNN Hyperparameter Analysis Using a Lineplot, Under and Over Fitting\n",
    "\n",
    "What I did above is a visual representation of KNN Hyperparameter tuning. This is a graph of the accuracy vs. the number of neighbors specificied for our algorithm. You can see that when the number of neighbors is low, the accuracy suffers. This is because of underfitting, which is when an algorithm cannot capture the underlying trend of the data. On the other end is overfitting, where the data is fit very well to the noise of the data, but not so well to the underlying data. "
   ]
  },
  {
   "cell_type": "markdown",
   "id": "c04fe4ad",
   "metadata": {},
   "source": [
    "## Conclusion\n",
    "\n",
    "This is the end of my notes re: KNN. The important things to remember are:\n",
    "-  KNN is easy to implement and should be the first classification algo tried\n",
    "-  Data going into KNN cannot have nan values\n",
    "-  Data going into to KNN needs to be preprocessed\n",
    "-  There is one important hyperparameter, n_neighbors\n",
    "-  KNN works best on lower dimensionality data\n",
    "\n"
   ]
  },
  {
   "cell_type": "code",
   "execution_count": null,
   "id": "65e8da79",
   "metadata": {},
   "outputs": [],
   "source": []
  }
 ],
 "metadata": {
  "kernelspec": {
   "display_name": "Python 3 (ipykernel)",
   "language": "python",
   "name": "python3"
  },
  "language_info": {
   "codemirror_mode": {
    "name": "ipython",
    "version": 3
   },
   "file_extension": ".py",
   "mimetype": "text/x-python",
   "name": "python",
   "nbconvert_exporter": "python",
   "pygments_lexer": "ipython3",
   "version": "3.9.7"
  }
 },
 "nbformat": 4,
 "nbformat_minor": 5
}
