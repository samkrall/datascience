{
 "cells": [
  {
   "cell_type": "markdown",
   "id": "7d7061fa",
   "metadata": {},
   "source": [
    "# Logistic Regression Tutorial\n",
    "\n",
    "Logistic regression belongs to the a group of supervised machine algorithms. It is similar to linear regression in the sense that you have one variable dependent on one or more independent variables. It's different from linear regression in that your dependent variable is categorical, not continuous. Because the variable you are trying to predict is categorical, Logistic Regression is a classification algorithm. Logistic regression might seem restrictive in low-dimensional spaces but in high dimensions it becomes very powerful.  \n",
    "\n",
    "## How Does Logistic Regression Work\n",
    "\n",
    "Logistic regression creates a decision boundary based off a bunch of variables. It predicts the outcome of a single dependent variable based on the values of its corresponding independent variables. Think using a person's height and weight to predict whether they are a male or a female. \n",
    "\n",
    "\n",
    "### Logistic Regression Equation\n",
    "Logistic regression is mathematically modeled using the following equation:\n",
    "\n",
    "log(p/1-p) = A+B(x1)+C(x2)+D(xn)\n",
    "- p/1-p is the odds ratio\n",
    "- A is equivalent to b in y=mx+b\n",
    "- B, C, D, etc are equivalent to m in y=mx+b\n",
    "- x1-xn are independent variables\n",
    "\n",
    "### What does the Equation Mean?\n",
    "\n",
    "WHenever the odds ratio is positive the probability of success is over 50% and the model predicts success, when its negative the model is below 50% and predicts failure.\n",
    "\n",
    "I'm going to load the penguins dataset and create a graph of the logisitic regression of the data with male/female being the dependent variable and body mass as the only independent variable.\n"
   ]
  },
  {
   "cell_type": "code",
   "execution_count": 12,
   "id": "0070ee2f",
   "metadata": {},
   "outputs": [
    {
     "data": {
      "text/plain": [
       "<AxesSubplot:xlabel='body_mass_g', ylabel='sex'>"
      ]
     },
     "execution_count": 12,
     "metadata": {},
     "output_type": "execute_result"
    },
    {
     "data": {
      "image/png": "[encoded data removed]",
      "text/plain": [
       "<Figure size 432x288 with 1 Axes>"
      ]
     },
     "metadata": {
      "needs_background": "light"
     },
     "output_type": "display_data"
    }
   ],
   "source": [
    "import pandas as pd\n",
    "import numpy as np\n",
    "from matplotlib import pyplot as plt\n",
    "import seaborn as sns \n",
    "\n",
    "\n",
    "df = sns.load_dataset('penguins')\n",
    "df.dropna(axis=0, how='any', inplace=True)\n",
    "df.head()\n",
    "\n",
    "#lists of categoricals/numerics\n",
    "categorical = ['species','island','sex']\n",
    "numeric = ['bill_length_mm','bill_depth_mm','flipper_length_mm','body_mass_g']\n",
    "\n",
    "#using pandas categorical method with .codes\n",
    "df['species']=pd.Categorical(df['species']).codes\n",
    "\n",
    "#using replace\n",
    "df['island'].replace(['Torgersen','Biscoe','Dream'],[0,1,2], inplace=True)\n",
    "\n",
    "#using get dummies\n",
    "df['sex'] = pd.get_dummies(df['sex'], drop_first=True)\n",
    "\n",
    "x = df['body_mass_g']\n",
    "y = df['sex']\n",
    "\n",
    "sns.regplot(x=x, y=y, data=df, logistic=True, ci=None)"
   ]
  },
  {
   "cell_type": "markdown",
   "id": "6c45ecd2",
   "metadata": {},
   "source": [
    "### What Does the equation Mean Continued\n",
    "\n",
    "This obviously isn't a great model as I cut off a bunch of the other important vairable for the sake of simplicity. Anything below 50% sorts into one sex and anything above 50% sorts into the other and there's a logarythmic curve that shows a decision boundary.\n",
    "\n",
    "## MultiClass Logistic Regression\n",
    "\n",
    "\n",
    "\n",
    "## Advantages and Disadvantages of Logistic Regression\n",
    "\n",
    "Logistic regression is a simplisitc algorithm that comes with distinct advantages and disadvantages.\n",
    "\n",
    "### Logistic Regression Advantages\n",
    "- Easy to understand and implement\n",
    "- Accurate for simples data sets\n",
    "- NO assumptions about distributions of data\n",
    "\n",
    "### Logistic Regression Disadvantages\n",
    "\n",
    "- Prone to overfitting\n",
    "- Non-linear problems cannot be solved withouth significant feature engineering\n",
    "- Complex relationships are hard to suss out\n",
    "- Scaling is required (although easy to implement)\n",
    "\n",
    "## Logistic Regression Parameters\n",
    "\n",
    "Logistic Regression has two very important parameters and a few other less important ones. I'm only going to explain the important ones and reference the documentation for the others.\n",
    "\n",
    "The important parameters of logistic regression are:\n",
    "- penalty - specifies the penalty\n",
    "- C (regularization strength) - specified the strengh of regularization, high c value means high regularization means the algorithm tries to fit the training data as well as possible (leading to potential overfitting).\n",
    "\n",
    "## Logistic Regression Exploration and Analysis\n",
    "\n",
    "The algorithm can be loaded from skLearn:\n",
    "\n",
    "sklearn.linear_model.LogisticRegression(penalty='l2', *, dual=False, tol=0.0001, C=1.0, fit_intercept=True, intercept_scaling=1, class_weight=None, random_state=None, solver='lbfgs', max_iter=100, multi_class='auto', verbose=0, warm_start=False, n_jobs=None, l1_ratio=None)\n",
    "\n",
    "Full documentation available here (https://scikit-learn.org/stable/modules/generated/sklearn.linear_model.LogisticRegression.html)\n",
    "\n",
    "I'm going to use the penguins dataset to  explore the logistic regression algorithm from sklearn."
   ]
  },
  {
   "cell_type": "code",
   "execution_count": 22,
   "id": "acb917ac",
   "metadata": {},
   "outputs": [
    {
     "name": "stdout",
     "output_type": "stream",
     "text": [
      "Accuracy Score:  0.762\n"
     ]
    }
   ],
   "source": [
    "X = df.drop('sex', axis=1)\n",
    "y=df['sex']\n",
    "\n",
    "from sklearn.preprocessing import MinMaxScaler\n",
    "scaler = MinMaxScaler(feature_range=(0, 1))\n",
    "data = scaler.fit_transform(X)\n",
    "X_scaled = pd.DataFrame(data)\n",
    "\n",
    "from sklearn.model_selection import train_test_split \n",
    "X_train, X_test, y_train, y_test = train_test_split(X,y,test_size=0.25,random_state=1) \n",
    "\n",
    "from sklearn.linear_model import LogisticRegression\n",
    "model = LogisticRegression()\n",
    "\n",
    "model.fit(X_train, y_train)\n",
    "\n",
    "predictions = model.predict(X_test)\n",
    "\n",
    "from sklearn.metrics import accuracy_score\n",
    "a_score = str(round(accuracy_score(y_test, predictions),3))\n",
    "print('Accuracy Score:  '+ a_score)"
   ]
  },
  {
   "cell_type": "code",
   "execution_count": 23,
   "id": "f658b3be",
   "metadata": {},
   "outputs": [
    {
     "name": "stdout",
     "output_type": "stream",
     "text": [
      "Accuracy Score:  0.905\n"
     ]
    }
   ],
   "source": [
    "X = df.drop('sex', axis=1)\n",
    "y=df['sex']\n",
    "\n",
    "from sklearn.preprocessing import MinMaxScaler\n",
    "scaler = MinMaxScaler(feature_range=(0, 1))\n",
    "data = scaler.fit_transform(X)\n",
    "X_scaled = pd.DataFrame(data)\n",
    "\n",
    "from sklearn.model_selection import train_test_split \n",
    "X_train, X_test, y_train, y_test = train_test_split(X_scaled,y,test_size=0.25,random_state=1) \n",
    "\n",
    "from sklearn.linear_model import LogisticRegression\n",
    "model = LogisticRegression()\n",
    "\n",
    "model.fit(X_train, y_train)\n",
    "\n",
    "predictions = model.predict(X_test)\n",
    "\n",
    "from sklearn.metrics import accuracy_score\n",
    "a_score = str(round(accuracy_score(y_test, predictions),3))\n",
    "print('Accuracy Score:  '+ a_score)"
   ]
  },
  {
   "cell_type": "markdown",
   "id": "c229be50",
   "metadata": {},
   "source": [
    "## Exploration and Analysis Continued\n",
    "\n",
    "When I first ran this data set, the accuracy score was AWFUL clocking in at ~0.76. Upon closer examination, I forgot to preprocess and scale the data. After scaling the data I got a much better ~0.9\n",
    "\n",
    "I'm still going to try to improve ith with some hyperparameter tuning, specifically C the regularization parameter. "
   ]
  },
  {
   "cell_type": "code",
   "execution_count": 31,
   "id": "8df5d106",
   "metadata": {},
   "outputs": [
    {
     "data": {
      "text/html": [
       "<div>\n",
       "<style scoped>\n",
       "    .dataframe tbody tr th:only-of-type {\n",
       "        vertical-align: middle;\n",
       "    }\n",
       "\n",
       "    .dataframe tbody tr th {\n",
       "        vertical-align: top;\n",
       "    }\n",
       "\n",
       "    .dataframe thead th {\n",
       "        text-align: right;\n",
       "    }\n",
       "</style>\n",
       "<table border=\"1\" class=\"dataframe\">\n",
       "  <thead>\n",
       "    <tr style=\"text-align: right;\">\n",
       "      <th></th>\n",
       "      <th>regularization</th>\n",
       "      <th>Accuracy Score</th>\n",
       "    </tr>\n",
       "  </thead>\n",
       "  <tbody>\n",
       "    <tr>\n",
       "      <th>4</th>\n",
       "      <td>10.000</td>\n",
       "      <td>0.917</td>\n",
       "    </tr>\n",
       "    <tr>\n",
       "      <th>3</th>\n",
       "      <td>1.000</td>\n",
       "      <td>0.905</td>\n",
       "    </tr>\n",
       "    <tr>\n",
       "      <th>5</th>\n",
       "      <td>100.000</td>\n",
       "      <td>0.893</td>\n",
       "    </tr>\n",
       "    <tr>\n",
       "      <th>6</th>\n",
       "      <td>1000.000</td>\n",
       "      <td>0.893</td>\n",
       "    </tr>\n",
       "    <tr>\n",
       "      <th>2</th>\n",
       "      <td>0.100</td>\n",
       "      <td>0.798</td>\n",
       "    </tr>\n",
       "    <tr>\n",
       "      <th>1</th>\n",
       "      <td>0.010</td>\n",
       "      <td>0.571</td>\n",
       "    </tr>\n",
       "    <tr>\n",
       "      <th>0</th>\n",
       "      <td>0.001</td>\n",
       "      <td>0.429</td>\n",
       "    </tr>\n",
       "  </tbody>\n",
       "</table>\n",
       "</div>"
      ],
      "text/plain": [
       "   regularization Accuracy Score\n",
       "4          10.000          0.917\n",
       "3           1.000          0.905\n",
       "5         100.000          0.893\n",
       "6        1000.000          0.893\n",
       "2           0.100          0.798\n",
       "1           0.010          0.571\n",
       "0           0.001          0.429"
      ]
     },
     "execution_count": 31,
     "metadata": {},
     "output_type": "execute_result"
    }
   ],
   "source": [
    "regularization = []\n",
    "accuracy = []\n",
    "\n",
    "for c in [0.001, 0.01, 0.1, 1, 10, 100, 1000]:\n",
    "    method = LogisticRegression(C=c)\n",
    "    method.fit(X_train,y_train)\n",
    "    predictions = method.predict(X_test)   \n",
    "    a_score = str(round(accuracy_score(y_test, predictions),3))\n",
    "    \n",
    "    regularization.append(c)\n",
    "    accuracy.append(a_score)\n",
    "    \n",
    "df_c = pd.DataFrame(regularization)\n",
    "df_c['Accuracy Score'] = accuracy\n",
    "df_c = df_c.rename(columns = {0:'regularization'})\n",
    "df_c.sort_values(by=['Accuracy Score'], ascending=False, inplace=True)\n",
    "\n",
    "df_c.head(10)"
   ]
  },
  {
   "cell_type": "code",
   "execution_count": 32,
   "id": "49b1ba20",
   "metadata": {},
   "outputs": [
    {
     "data": {
      "text/plain": [
       "<AxesSubplot:xlabel='regularization', ylabel='Accuracy Score'>"
      ]
     },
     "execution_count": 32,
     "metadata": {},
     "output_type": "execute_result"
    },
    {
     "data": {
      "image/png": "[encoded data removed]",
      "text/plain": [
       "<Figure size 432x288 with 1 Axes>"
      ]
     },
     "metadata": {
      "needs_background": "light"
     },
     "output_type": "display_data"
    }
   ],
   "source": [
    "df_c['Accuracy Score'] = df_c['Accuracy Score'].astype(float)\n",
    "sns.barplot(data=df_c, x=\"regularization\", y=\"Accuracy Score\")"
   ]
  },
  {
   "cell_type": "markdown",
   "id": "1c128801",
   "metadata": {},
   "source": [
    "## Conclusion\n",
    "\n",
    "That's logistic regression. Its an easy to undertand and easy to implement algorith with little CPU requirements. There are 3 things you need to remember about it, they are:\n",
    "\n",
    "- Scaling is required, standardization is not\n",
    "- C is the primary hyperparameter to tweak for performance\n",
    "- Data must be linear, if its not you needt to transform it linearly OR use another algorithm,\n"
   ]
  },
  {
   "cell_type": "code",
   "execution_count": null,
   "id": "8b5be5a7",
   "metadata": {},
   "outputs": [],
   "source": []
  }
 ],
 "metadata": {
  "kernelspec": {
   "display_name": "Python 3 (ipykernel)",
   "language": "python",
   "name": "python3"
  },
  "language_info": {
   "codemirror_mode": {
    "name": "ipython",
    "version": 3
   },
   "file_extension": ".py",
   "mimetype": "text/x-python",
   "name": "python",
   "nbconvert_exporter": "python",
   "pygments_lexer": "ipython3",
   "version": "3.9.7"
  }
 },
 "nbformat": 4,
 "nbformat_minor": 5
}
